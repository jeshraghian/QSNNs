{
  "cells": [
    {
      "cell_type": "markdown",
      "metadata": {
        "colab_type": "text",
        "id": "view-in-github"
      },
      "source": [
        "<a href=\"https://colab.research.google.com/github/jeshraghian/QSNNs/blob/main/quickstart.ipynb\" target=\"_parent\"><img src=\"https://colab.research.google.com/assets/colab-badge.svg\" alt=\"Open In Colab\"/></a>"
      ]
    },
    {
      "cell_type": "markdown",
      "id": "47d5313e-c29d-4581-a9c7-a45122337069",
      "metadata": {
        "id": "47d5313e-c29d-4581-a9c7-a45122337069"
      },
      "source": [
        "# Quantized Spiking Neural Networks\n",
        "This notebook is based on the paper *Navigating Local Minima in Quantized Spiking Neural Networks.* It demonstrates how to train quantized spiking neural networks using cosine annealing on the FashionMNIST dataset. For other datasets, networks, and for the experiments described in the corresponding paper, please [refer to the QSNNs repo](https://github.com/jeshraghian/QSNNs/).\n",
        "\n",
        "\n",
        "<p align=\"center\"><img src=\"https://user-images.githubusercontent.com/40262130/153728440-8f1c4a9b-dac2-4ad5-828c-21fb4e42f8c2.png\" width=75% height=75%><p >\n",
        "</p>\n",
        "\n",
        "<p style=\"text-align: center;\"><i>Illustrations of the key concepts of the paper: Periodic scheduling can enable SNNs to overcome flat surfaces and local minima. When the LR is boosted during training using a cyclic scheduler, it is given another chance to reduce the loss with different initial conditions. While the loss appears to converge, subsequent LR boosting enables it to traverse more optimal solutions</i>.</p>\n"
      ]
    },
    {
      "cell_type": "markdown",
      "id": "b68d7bb4",
      "metadata": {},
      "source": [
        "## Install All Required Packages and Import Necessary Libraries"
      ]
    },
    {
      "cell_type": "code",
      "execution_count": null,
      "id": "hDnIEHOKB8LD",
      "metadata": {
        "id": "hDnIEHOKB8LD"
      },
      "outputs": [],
      "source": [
        "!pip install -r requirements.txt --quiet\n",
        "import torch, torch.nn as nn\n",
        "import snntorch as snn\n",
        "import brevitas.nn as qnn"
      ]
    },
    {
      "cell_type": "markdown",
      "id": "EYf13Gtx1OCj",
      "metadata": {
        "id": "EYf13Gtx1OCj"
      },
      "source": [
        "## Create a Dataloader for the FashionMNIST Dataset"
      ]
    },
    {
      "cell_type": "markdown",
      "id": "17e61945",
      "metadata": {},
      "source": [
        "Download and apply transforms to the FashionMNIST dataset."
      ]
    },
    {
      "cell_type": "code",
      "execution_count": null,
      "id": "eo4T5MC21hgD",
      "metadata": {
        "id": "eo4T5MC21hgD"
      },
      "outputs": [],
      "source": [
        "from torch.utils.data import DataLoader\n",
        "from torchvision import datasets, transforms\n",
        "\n",
        "\n",
        "data_path='/data/fmnist' # Directory where FMNIST dataset is stored\n",
        "device = torch.device(\"cuda\") if torch.cuda.is_available() else torch.device(\"cpu\") # Use GPU if available\n",
        "\n",
        "# Define a transform to normalize data\n",
        "transform = transforms.Compose([\n",
        "            transforms.Resize((28, 28)),\n",
        "            transforms.Grayscale(),\n",
        "            transforms.ToTensor(),\n",
        "            transforms.Normalize((0,), (1,))])\n",
        "\n",
        "# Download and load the training and test FashionMNIST datasets\n",
        "fmnist_train = datasets.FashionMNIST(data_path, train=True, download=True, transform=transform)\n",
        "fmnist_test = datasets.FashionMNIST(data_path, train=False, download=True, transform=transform)"
      ]
    },
    {
      "cell_type": "markdown",
      "id": "CHcNZT-7iCQH",
      "metadata": {
        "id": "CHcNZT-7iCQH"
      },
      "source": [
        "To speed-up simulations for demonstration purposes, the below code cell can be run to reduce the number of samples in the training and test sets by a factor of 10."
      ]
    },
    {
      "cell_type": "code",
      "execution_count": null,
      "id": "q5bhKdF_h7qk",
      "metadata": {
        "id": "q5bhKdF_h7qk"
      },
      "outputs": [],
      "source": [
        "from snntorch import utils\n",
        "\n",
        "\n",
        "utils.data_subset(fmnist_train, 10)\n",
        "utils.data_subset(fmnist_test, 10)"
      ]
    },
    {
      "cell_type": "markdown",
      "id": "bLmrQ5pEiSSJ",
      "metadata": {
        "id": "bLmrQ5pEiSSJ"
      },
      "source": [
        "Create DataLoaders with batches of 128 samples and shuffle the training set."
      ]
    },
    {
      "cell_type": "code",
      "execution_count": null,
      "id": "xstp4mn_iRxi",
      "metadata": {
        "id": "xstp4mn_iRxi"
      },
      "outputs": [],
      "source": [
        "batch_size = 128 # Batches of 128 samples\n",
        "trainloader = DataLoader(fmnist_train, batch_size=batch_size, shuffle=True)\n",
        "testloader = DataLoader(fmnist_test, batch_size=batch_size, shuffle=False)"
      ]
    },
    {
      "cell_type": "markdown",
      "id": "i3A4exp_c0c5",
      "metadata": {
        "id": "i3A4exp_c0c5"
      },
      "source": [
        "## Define Network Parameters"
      ]
    },
    {
      "cell_type": "markdown",
      "id": "vrt2wObbiXSf",
      "metadata": {
        "id": "vrt2wObbiXSf"
      },
      "source": [
        "We have only specified 15 epochs without early stopping as a quick, early demonstration. Feel free to increase this. "
      ]
    },
    {
      "cell_type": "code",
      "execution_count": null,
      "id": "ivhGn7Lhc6te",
      "metadata": {
        "id": "ivhGn7Lhc6te"
      },
      "outputs": [],
      "source": [
        "config = {\n",
        "    \"num_epochs\": 15,  # Number of epochs to train for (per trial)\n",
        "    \"batch_size\": 128,  # Batch size\n",
        "    \"seed\": 0,  # Random seed\n",
        "    \n",
        "    # Quantization\n",
        "    \"num_bits\": 4,  # Bit resolution\n",
        "    \n",
        "    # Network parameters\n",
        "    \"grad_clip\": False,  # Whether or not to clip gradients\n",
        "    \"weight_clip\": False,  # Whether or not to clip weights\n",
        "    \"batch_norm\": True,  # Whether or not to use batch normalization\n",
        "    \"dropout\": 0.07,  # Dropout rate\n",
        "    \"beta\": 0.97,  # Decay rate parameter (beta)\n",
        "    \"threshold\": 2.5,  # Threshold parameter (theta)\n",
        "    \"lr\": 3.0e-3,  # Initial learning rate\n",
        "    \"slope\": 5.6,  # Slope value (k)\n",
        "    \n",
        "    # Fixed params\n",
        "    \"num_steps\": 100,  # Number of timesteps to encode input for\n",
        "    \"correct_rate\": 0.8,  # Correct rate\n",
        "    \"incorrect_rate\": 0.2,  # Incorrect rate\n",
        "    \"betas\": (0.9, 0.999),  # Adam optimizer beta values\n",
        "    \"t_0\": 4690,  # Initial frequency of the cosine annealing scheduler\n",
        "    \"eta_min\": 0,  # Minimum learning rate\n",
        "}"
      ]
    },
    {
      "cell_type": "markdown",
      "id": "BtJBOtez11wy",
      "metadata": {
        "id": "BtJBOtez11wy"
      },
      "source": [
        "## Define the Network Architecture\n",
        "* 5 $\\times$ Conv Layer w/16 Filters\n",
        "* 2 $\\times$ 2 Average Pooling\n",
        "* 5 $\\times$ Conv Layer w/64 Filters\n",
        "* 2 $\\times$ 2 Average Pooling\n",
        "* (64 $\\times$ 4 $\\times$ 4) -- 10 Dense Layer"
      ]
    },
    {
      "cell_type": "code",
      "execution_count": null,
      "id": "JM2thnrc10rD",
      "metadata": {
        "id": "JM2thnrc10rD"
      },
      "outputs": [],
      "source": [
        "from snntorch import surrogate\n",
        "import torch.nn.functional as F\n",
        "\n",
        "\n",
        "class Net(nn.Module):\n",
        "    def __init__(self, config):\n",
        "        super().__init__()\n",
        "        self.num_bits = config[\"num_bits\"]\n",
        "        self.thr = config[\"threshold\"]\n",
        "        self.slope = config[\"slope\"]\n",
        "        self.beta = config[\"beta\"]\n",
        "        self.num_steps = config[\"num_steps\"]\n",
        "        self.batch_norm = config[\"batch_norm\"]\n",
        "        self.p1 = config[\"dropout\"]\n",
        "        self.spike_grad = surrogate.fast_sigmoid(self.slope)\n",
        "        \n",
        "        # Initialize Layers\n",
        "        self.conv1 = qnn.QuantConv2d(1, 16, 5, bias=False, weight_bit_width=self.num_bits)\n",
        "        self.conv1_bn = nn.BatchNorm2d(16)\n",
        "        self.lif1 = snn.Leaky(self.beta, threshold=self.thr, spike_grad=self.spike_grad)\n",
        "        self.conv2 = qnn.QuantConv2d(16, 64, 5, bias=False, weight_bit_width=self.num_bits)\n",
        "        self.conv2_bn = nn.BatchNorm2d(64)\n",
        "        self.lif2 = snn.Leaky(self.beta, threshold=self.thr, spike_grad=self.spike_grad)\n",
        "        self.fc1 = qnn.QuantLinear(64 * 4 * 4, 10, bias=False, weight_bit_width=self.num_bits)\n",
        "        self.lif3 = snn.Leaky(self.beta, threshold=self.thr, spike_grad=self.spike_grad)\n",
        "        self.dropout = nn.Dropout(self.p1)\n",
        "\n",
        "    def forward(self, x):\n",
        "        # Initialize hidden states and outputs at t=0\n",
        "        mem1 = self.lif1.init_leaky()\n",
        "        mem2 = self.lif2.init_leaky()\n",
        "        mem3 = self.lif3.init_leaky()\n",
        "\n",
        "        # Record the final layer\n",
        "        spk3_rec = []\n",
        "        mem3_rec = []\n",
        "\n",
        "        # Forward pass\n",
        "        for step in range(self.num_steps):\n",
        "            cur1 = F.avg_pool2d(self.conv1(x), 2)\n",
        "            if self.batch_norm:\n",
        "                cur1 = self.conv1_bn(cur1)\n",
        "\n",
        "            spk1, mem1 = self.lif1(cur1, mem1)\n",
        "            cur2 = F.avg_pool2d(self.conv2(spk1), 2)\n",
        "            if self.batch_norm:\n",
        "                cur2 = self.conv2_bn(cur2)\n",
        "\n",
        "            spk2, mem2 = self.lif2(cur2, mem2)\n",
        "            cur3 = self.dropout(self.fc1(spk2.flatten(1)))\n",
        "            spk3, mem3 = self.lif3(cur3, mem3)\n",
        "            spk3_rec.append(spk3)\n",
        "            mem3_rec.append(mem3)\n",
        "\n",
        "        return torch.stack(spk3_rec, dim=0), torch.stack(mem3_rec, dim=0)\n",
        "\n",
        "net = Net(config).to(device)"
      ]
    },
    {
      "cell_type": "markdown",
      "id": "BmtJx_AAeOyP",
      "metadata": {
        "id": "BmtJx_AAeOyP"
      },
      "source": [
        "## Define the Optimizer, Learning Rate Scheduler, and Loss Function\n",
        "* Adam optimizer\n",
        "* Cosine Annealing Scheduler\n",
        "* MSE Spike Count Loss (Target spike count for correct and incorrect classes are specified)"
      ]
    },
    {
      "cell_type": "code",
      "execution_count": null,
      "id": "ky-qAN_YeKmE",
      "metadata": {
        "id": "ky-qAN_YeKmE"
      },
      "outputs": [],
      "source": [
        "import snntorch.functional as SF\n",
        "\n",
        "\n",
        "optimizer = torch.optim.Adam(net.parameters(), \n",
        "    lr=config[\"lr\"], betas=config[\"betas\"]\n",
        ")\n",
        "scheduler = torch.optim.lr_scheduler.CosineAnnealingLR(optimizer, \n",
        "    T_max=config[\"t_0\"], \n",
        "    eta_min=config[\"eta_min\"], \n",
        "    last_epoch=-1\n",
        ")\n",
        "criterion = SF.mse_count_loss(correct_rate=config[\"correct_rate\"], \n",
        "    incorrect_rate=config[\"incorrect_rate\"]\n",
        ")"
      ]
    },
    {
      "cell_type": "markdown",
      "id": "UGtJwmtVexb4",
      "metadata": {
        "id": "UGtJwmtVexb4"
      },
      "source": [
        "## Train and Evaluate the Network"
      ]
    },
    {
      "cell_type": "markdown",
      "id": "2321a02f",
      "metadata": {},
      "source": [
        "As the learning rate follows a periodic schedule, the accuracy will oscillate across the training process, but with a general tendency to improve."
      ]
    },
    {
      "cell_type": "code",
      "execution_count": null,
      "id": "tbOQgPiEe-lp",
      "metadata": {
        "id": "tbOQgPiEe-lp"
      },
      "outputs": [],
      "source": [
        "def train(config, net, trainloader, criterion, optimizer, device=\"cpu\", scheduler=None):\n",
        "    \"\"\"Complete one epoch of training.\"\"\"\n",
        "    \n",
        "    net.train()\n",
        "    loss_accum = []\n",
        "    lr_accum = []\n",
        "    i = 0\n",
        "    for data, labels in trainloader:\n",
        "        data, labels = data.to(device), labels.to(device)\n",
        "        spk_rec, _ = net(data)\n",
        "        loss = criterion(spk_rec, labels)\n",
        "        optimizer.zero_grad()\n",
        "        loss.backward()\n",
        "\n",
        "        ## Enable gradient clipping\n",
        "        if config[\"grad_clip\"]:\n",
        "            nn.utils.clip_grad_norm_(net.parameters(), 1.0)\n",
        "\n",
        "        ## Enable weight clipping\n",
        "        if config[\"weight_clip\"]:\n",
        "            with torch.no_grad():\n",
        "                for param in net.parameters():\n",
        "                    param.clamp_(-1, 1)\n",
        "\n",
        "        optimizer.step()\n",
        "        scheduler.step()\n",
        "        loss_accum.append(loss.item() / config[\"num_steps\"])\n",
        "        lr_accum.append(optimizer.param_groups[0][\"lr\"])\n",
        "\n",
        "    return loss_accum, lr_accum\n",
        "\n",
        "def test(config, net, testloader, device=\"cpu\"):\n",
        "    \"\"\"Calculate accuracy on full test set.\"\"\"\n",
        "    correct = 0\n",
        "    total = 0\n",
        "    with torch.no_grad():\n",
        "        net.eval()\n",
        "        for data in testloader:\n",
        "            images, labels = data\n",
        "            images, labels = images.to(device), labels.to(device)\n",
        "            outputs, _ = net(images)\n",
        "            accuracy = SF.accuracy_rate(outputs, labels)\n",
        "            total += labels.size(0)\n",
        "            correct += accuracy * labels.size(0)\n",
        "\n",
        "    return 100 * correct / total\n",
        "\n",
        "loss_list = []\n",
        "lr_list = []\n",
        "\n",
        "print(f\"=======Training Network=======\")\n",
        "# Train\n",
        "for epoch in range(config['num_epochs']):\n",
        "    loss, lr = train(config, net, trainloader, criterion, optimizer, \n",
        "        device, scheduler\n",
        "    )\n",
        "    loss_list = loss_list + loss\n",
        "    lr_list = lr_list + lr\n",
        "    # Test\n",
        "    test_accuracy = test(config, net, testloader, device)\n",
        "    print(f\"Epoch: {epoch} \\tTest Accuracy: {test_accuracy}\")"
      ]
    },
    {
      "cell_type": "markdown",
      "id": "14d0bd78",
      "metadata": {},
      "source": [
        "## Plot the Training Loss and Learning Rate Over Time"
      ]
    },
    {
      "cell_type": "code",
      "execution_count": null,
      "id": "B22SnaTElOLh",
      "metadata": {
        "id": "B22SnaTElOLh"
      },
      "outputs": [],
      "source": [
        "%matplotlib inline\n",
        "import matplotlib.pyplot as plt\n",
        "import seaborn as sns\n",
        "\n",
        "\n",
        "sns.set_theme()\n",
        "fig, ax1 = plt.subplots()\n",
        "ax2 = ax1.twinx()\n",
        "ax1.plot(loss_list, color='tab:orange')\n",
        "ax2.plot(lr_list, color='tab:blue')\n",
        "ax1.set_xlabel('Iteration')\n",
        "ax1.set_ylabel('Loss', color='tab:orange')\n",
        "ax2.set_ylabel('Learning Rate', color='tab:blue')\n",
        "plt.show()"
      ]
    },
    {
      "cell_type": "markdown",
      "id": "-iSGTq0Q3Lcm",
      "metadata": {
        "id": "-iSGTq0Q3Lcm"
      },
      "source": [
        "# Conclusion\n",
        "That's it for the quick intro to quantized SNNs! Results can be further improved by not using the `snntorch.utils.data_subset` method to train with the full FashionMNIST dataset, training for a larger number of epochs, and utilizing early stopping logic.\n",
        "\n",
        "To run the experiments from the corresponding paper, including those on dynamic datasets, please [refer to the corresponding GitHub repo](https://github.com/jeshraghian/QSNNs/)."
      ]
    }
  ],
  "metadata": {
    "accelerator": "GPU",
    "colab": {
      "include_colab_link": true,
      "name": "Copy of tutorial_5_neuromorphic_datasets.ipynb",
      "provenance": []
    },
    "kernelspec": {
      "display_name": "Python 3 (ipykernel)",
      "language": "python",
      "name": "python3"
    },
    "language_info": {
      "codemirror_mode": {
        "name": "ipython",
        "version": 3
      },
      "file_extension": ".py",
      "mimetype": "text/x-python",
      "name": "python",
      "nbconvert_exporter": "python",
      "pygments_lexer": "ipython3",
      "version": "3.8.11"
    }
  },
  "nbformat": 4,
  "nbformat_minor": 5
}
