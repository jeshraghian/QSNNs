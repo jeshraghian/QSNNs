{
  "nbformat": 4,
  "nbformat_minor": 5,
  "metadata": {
    "kernelspec": {
      "display_name": "Python 3 (ipykernel)",
      "language": "python",
      "name": "python3"
    },
    "language_info": {
      "codemirror_mode": {
        "name": "ipython",
        "version": 3
      },
      "file_extension": ".py",
      "mimetype": "text/x-python",
      "name": "python",
      "nbconvert_exporter": "python",
      "pygments_lexer": "ipython3",
      "version": "3.8.11"
    },
    "colab": {
      "name": "Copy of tutorial_5_neuromorphic_datasets.ipynb",
      "provenance": [],
      "include_colab_link": true
    },
    "accelerator": "GPU"
  },
  "cells": [
    {
      "cell_type": "markdown",
      "metadata": {
        "id": "view-in-github",
        "colab_type": "text"
      },
      "source": [
        "<a href=\"https://colab.research.google.com/github/jeshraghian/QSNNs/blob/main/quickstart.ipynb\" target=\"_parent\"><img src=\"https://colab.research.google.com/assets/colab-badge.svg\" alt=\"Open In Colab\"/></a>"
      ]
    },
    {
      "cell_type": "markdown",
      "metadata": {
        "id": "47d5313e-c29d-4581-a9c7-a45122337069"
      },
      "source": [
        "# Quantized Spiking Neural Networks\n",
        "\n",
        "<a href=\"https://colab.research.google.com/github/jeshraghian/QSNNs/blob/main/quickstart.ipynb\">\n",
        "  <img src=\"https://colab.research.google.com/assets/colab-badge.svg\" alt=\"Open In Colab\"/>\n",
        "</a> \n",
        "\n",
        "[<img src='https://github.com/jeshraghian/snntorch/blob/master/docs/_static/img/GitHub-Mark-Light-120px-plus.png?raw=true' width=\"28\">](https://github.com/jeshraghian/QSNNs/) [<img src='https://github.com/jeshraghian/snntorch/blob/master/docs/_static/img/GitHub_Logo_White.png?raw=true' width=\"80\">](https://github.com/jeshraghian/QSNNs/)\n"
      ],
      "id": "47d5313e-c29d-4581-a9c7-a45122337069"
    },
    {
      "cell_type": "markdown",
      "metadata": {
        "id": "oll2NNFeG1NG"
      },
      "source": [
        "<p align=\"center\"><img src=\"https://user-images.githubusercontent.com/40262130/153728440-8f1c4a9b-dac2-4ad5-828c-21fb4e42f8c2.png\" width=75% height=75%><p >\n",
        "</p>\n",
        "\n",
        "This notebook is based on the paper *Navigating Local Minima in Quantized Spiking Neural Networks.*\n",
        "\n",
        "This notebook demonstrates how to train quantized spiking neural networks using cosine annealing on the FashionMNIST dataset. For other datasets, networks, and for the experiments described in the corresponding paper, please [refer to the QSNNs repo.](https://github.com/jeshraghian/QSNNs/)"
      ],
      "id": "oll2NNFeG1NG"
    },
    {
      "cell_type": "code",
      "metadata": {
        "id": "hDnIEHOKB8LD"
      },
      "source": [
        "!pip install snntorch --quiet\n",
        "!pip install brevitas --quiet"
      ],
      "id": "hDnIEHOKB8LD",
      "execution_count": null,
      "outputs": []
    },
    {
      "cell_type": "code",
      "metadata": {
        "id": "WL487gZW1Agy"
      },
      "source": [
        "import torch, torch.nn as nn\n",
        "import snntorch as snn\n",
        "import brevitas.nn as qnn"
      ],
      "id": "WL487gZW1Agy",
      "execution_count": null,
      "outputs": []
    },
    {
      "cell_type": "markdown",
      "metadata": {
        "id": "EYf13Gtx1OCj"
      },
      "source": [
        "## DataLoading\n",
        "Define variables for dataloading."
      ],
      "id": "EYf13Gtx1OCj"
    },
    {
      "cell_type": "code",
      "metadata": {
        "id": "eo4T5MC21hgD"
      },
      "source": [
        "batch_size = 128\n",
        "data_path='/data/fmnist'\n",
        "device = torch.device(\"cuda\") if torch.cuda.is_available() else torch.device(\"cpu\")"
      ],
      "id": "eo4T5MC21hgD",
      "execution_count": null,
      "outputs": []
    },
    {
      "cell_type": "markdown",
      "metadata": {
        "id": "myFKqNx11qYS"
      },
      "source": [
        "Load FashionMNIST dataset."
      ],
      "id": "myFKqNx11qYS"
    },
    {
      "cell_type": "code",
      "metadata": {
        "id": "3GdglZjK04cb"
      },
      "source": [
        "from torch.utils.data import DataLoader\n",
        "from torchvision import datasets, transforms\n",
        "\n",
        "# Define a transform\n",
        "transform = transforms.Compose([\n",
        "            transforms.Resize((28, 28)),\n",
        "            transforms.Grayscale(),\n",
        "            transforms.ToTensor(),\n",
        "            transforms.Normalize((0,), (1,))])\n",
        "\n",
        "fmnist_train = datasets.FashionMNIST(data_path, train=True, download=True, transform=transform)\n",
        "fmnist_test = datasets.FashionMNIST(data_path, train=False, download=True, transform=transform)"
      ],
      "id": "3GdglZjK04cb",
      "execution_count": null,
      "outputs": []
    },
    {
      "cell_type": "markdown",
      "source": [
        "To keep simulation runtimes fast, feel free to run the code below to reduce the train and test sets by a factor of 10."
      ],
      "metadata": {
        "id": "CHcNZT-7iCQH"
      },
      "id": "CHcNZT-7iCQH"
    },
    {
      "cell_type": "code",
      "source": [
        "from snntorch import utils\n",
        "\n",
        "utils.data_subset(fmnist_train, 10)\n",
        "utils.data_subset(fmnist_test, 10)"
      ],
      "metadata": {
        "id": "q5bhKdF_h7qk"
      },
      "id": "q5bhKdF_h7qk",
      "execution_count": null,
      "outputs": []
    },
    {
      "cell_type": "markdown",
      "source": [
        "Create DataLoaders."
      ],
      "metadata": {
        "id": "bLmrQ5pEiSSJ"
      },
      "id": "bLmrQ5pEiSSJ"
    },
    {
      "cell_type": "code",
      "source": [
        "# Create DataLoaders\n",
        "trainloader = DataLoader(fmnist_train, batch_size=batch_size, shuffle=True)\n",
        "testloader = DataLoader(fmnist_test, batch_size=batch_size, shuffle=True)"
      ],
      "metadata": {
        "id": "xstp4mn_iRxi"
      },
      "id": "xstp4mn_iRxi",
      "execution_count": null,
      "outputs": []
    },
    {
      "cell_type": "markdown",
      "source": [
        "## Define Network Parameters"
      ],
      "metadata": {
        "id": "i3A4exp_c0c5"
      },
      "id": "i3A4exp_c0c5"
    },
    {
      "cell_type": "markdown",
      "source": [
        "We have only specified 15 epochs without early stopping as a quick, early demonstration. Feel free to increase this. "
      ],
      "metadata": {
        "id": "vrt2wObbiXSf"
      },
      "id": "vrt2wObbiXSf"
    },
    {
      "cell_type": "code",
      "source": [
        "config = {\n",
        "    \"num_epochs\": 15,  # Number of epochs to train for (per trial)\n",
        "    \"batch_size\": 128,  # Batch size\n",
        "    \"seed\": 0,  # Random seed\n",
        "    \n",
        "    # Quantization\n",
        "    \"num_bits\": 4,  # Bit resolution\n",
        "    \n",
        "    # Network parameters\n",
        "    \"grad_clip\": False,  # Whether or not to clip gradients\n",
        "    \"weight_clip\": False,  # Whether or not to clip weights\n",
        "    \"batch_norm\": True,  # Whether or not to use batch normalization\n",
        "    \"dropout\": 0.07,  # Dropout rate\n",
        "    \"beta\": 0.97,  # Decay rate parameter (beta)\n",
        "    \"threshold\": 2.5,  # Threshold parameter (theta)\n",
        "    \"lr\": 3.0e-3,  # Initial learning rate\n",
        "    \"slope\": 5.6,  # Slope value (k)\n",
        "    \n",
        "    # Fixed params\n",
        "    \"num_steps\": 100,  # Number of timesteps to encode input for\n",
        "    \"correct_rate\": 0.8,  # Correct rate\n",
        "    \"incorrect_rate\": 0.2,  # Incorrect rate\n",
        "    \"betas\": (0.9, 0.999),  # Adam optimizer beta values\n",
        "    \"t_0\": 4690,  # Initial frequency of the cosine annealing scheduler\n",
        "    \"eta_min\": 0,  # Minimum learning rate\n",
        "}"
      ],
      "metadata": {
        "id": "ivhGn7Lhc6te"
      },
      "id": "ivhGn7Lhc6te",
      "execution_count": null,
      "outputs": []
    },
    {
      "cell_type": "markdown",
      "metadata": {
        "id": "BtJBOtez11wy"
      },
      "source": [
        "## Define Network Architecture\n",
        "* 5 $\\times$ Conv Layer w/16 Filters\n",
        "* 2 $\\times$ 2 Average Pooling\n",
        "* 5 $\\times$ Conv Layer w/64 Filters\n",
        "* 2 $\\times$ 2 Average Pooling\n",
        "* (64 $\\times$ 4 $\\times$ 4)$-$10 Dense Layer"
      ],
      "id": "BtJBOtez11wy"
    },
    {
      "cell_type": "code",
      "metadata": {
        "id": "JM2thnrc10rD"
      },
      "source": [
        "from snntorch import surrogate\n",
        "import torch.nn.functional as F\n",
        "\n",
        "class Net(nn.Module):\n",
        "    def __init__(self, config):\n",
        "        super().__init__()\n",
        "\n",
        "        self.num_bits = config[\"num_bits\"]\n",
        "        self.thr = config[\"threshold\"]\n",
        "        self.slope = config[\"slope\"]\n",
        "        self.beta = config[\"beta\"]\n",
        "        self.num_steps = config[\"num_steps\"]\n",
        "        self.batch_norm = config[\"batch_norm\"]\n",
        "        self.p1 = config[\"dropout\"]\n",
        "        self.spike_grad = surrogate.fast_sigmoid(self.slope)\n",
        "        \n",
        "        # Initialize Layers\n",
        "        self.conv1 = qnn.QuantConv2d(1, 16, 5, bias=False, weight_bit_width=self.num_bits)\n",
        "        self.conv1_bn = nn.BatchNorm2d(16)\n",
        "        self.lif1 = snn.Leaky(self.beta, threshold=self.thr, spike_grad=self.spike_grad)\n",
        "        self.conv2 = qnn.QuantConv2d(16, 64, 5, bias=False, weight_bit_width=self.num_bits)\n",
        "        self.conv2_bn = nn.BatchNorm2d(64)\n",
        "        self.lif2 = snn.Leaky(self.beta, threshold=self.thr, spike_grad=self.spike_grad)\n",
        "        self.fc1 = qnn.QuantLinear(64 * 4 * 4, 10, bias=False, weight_bit_width=self.num_bits)\n",
        "        self.lif3 = snn.Leaky(self.beta, threshold=self.thr, spike_grad=self.spike_grad)\n",
        "        self.dropout = nn.Dropout(self.p1)\n",
        "\n",
        "    def forward(self, x):\n",
        "        # Initialize hidden states and outputs at t=0\n",
        "        mem1 = self.lif1.init_leaky()\n",
        "        mem2 = self.lif2.init_leaky()\n",
        "        mem3 = self.lif3.init_leaky()\n",
        "\n",
        "        # Record the final layer\n",
        "        spk3_rec = []\n",
        "        mem3_rec = []\n",
        "\n",
        "        # Forward pass\n",
        "        for step in range(self.num_steps):\n",
        "            cur1 = F.avg_pool2d(self.conv1(x), 2)\n",
        "            if self.batch_norm:\n",
        "                cur1 = self.conv1_bn(cur1)\n",
        "\n",
        "            spk1, mem1 = self.lif1(cur1, mem1)\n",
        "            cur2 = F.avg_pool2d(self.conv2(spk1), 2)\n",
        "            if self.batch_norm:\n",
        "                cur2 = self.conv2_bn(cur2)\n",
        "\n",
        "            spk2, mem2 = self.lif2(cur2, mem2)\n",
        "            cur3 = self.dropout(self.fc1(spk2.flatten(1)))\n",
        "            spk3, mem3 = self.lif3(cur3, mem3)\n",
        "            spk3_rec.append(spk3)\n",
        "            mem3_rec.append(mem3)\n",
        "\n",
        "        return torch.stack(spk3_rec, dim=0), torch.stack(mem3_rec, dim=0)"
      ],
      "id": "JM2thnrc10rD",
      "execution_count": null,
      "outputs": []
    },
    {
      "cell_type": "code",
      "source": [
        "net = Net(config)\n",
        "device = \"cpu\"\n",
        "if torch.cuda.is_available():\n",
        "    device = \"cuda\"\n",
        "\n",
        "net.to(device)"
      ],
      "metadata": {
        "id": "-pgs5YBLdr8z"
      },
      "id": "-pgs5YBLdr8z",
      "execution_count": null,
      "outputs": []
    },
    {
      "cell_type": "markdown",
      "source": [
        "## Define Optimizer, Scheduler and Loss\n",
        "* Adam optimizer\n",
        "* Cosine Annealing Scheduler\n",
        "* MSE Spike Count Loss (Target spike count for correct and incorrect classes are specified)"
      ],
      "metadata": {
        "id": "BmtJx_AAeOyP"
      },
      "id": "BmtJx_AAeOyP"
    },
    {
      "cell_type": "code",
      "source": [
        "import snntorch.functional as SF\n",
        "\n",
        "# Initialize the optimizer and scheduler\n",
        "optimizer = torch.optim.Adam(net.parameters(), \n",
        "                             lr=config[\"lr\"], betas=config[\"betas\"]\n",
        "                             )\n",
        "\n",
        "scheduler = torch.optim.lr_scheduler.CosineAnnealingLR(optimizer, \n",
        "                                                       T_max=config[\"t_0\"], \n",
        "                                                       eta_min=config[\"eta_min\"], \n",
        "                                                       last_epoch=-1\n",
        "                                                       )\n",
        "\n",
        "criterion = SF.mse_count_loss(correct_rate=config[\"correct_rate\"], \n",
        "                              incorrect_rate=config[\"incorrect_rate\"]\n",
        "                              )"
      ],
      "metadata": {
        "id": "ky-qAN_YeKmE"
      },
      "id": "ky-qAN_YeKmE",
      "execution_count": null,
      "outputs": []
    },
    {
      "cell_type": "markdown",
      "source": [
        "## Training"
      ],
      "metadata": {
        "id": "UGtJwmtVexb4"
      },
      "id": "UGtJwmtVexb4"
    },
    {
      "cell_type": "code",
      "source": [
        "def train(config, net, trainloader, criterion, optimizer, device=\"cpu\", scheduler=None):\n",
        "    \"\"\"Complete one epoch of training.\"\"\"\n",
        "    \n",
        "    net.train()\n",
        "    loss_accum = []\n",
        "    lr_accum = []\n",
        "    i = 0\n",
        "    for data, labels in trainloader:\n",
        "        data, labels = data.to(device), labels.to(device)\n",
        "        spk_rec, _ = net(data)\n",
        "        loss = criterion(spk_rec, labels)\n",
        "        optimizer.zero_grad()\n",
        "        loss.backward()\n",
        "\n",
        "        ## Enable gradient clipping\n",
        "        if config[\"grad_clip\"]:\n",
        "            nn.utils.clip_grad_norm_(net.parameters(), 1.0)\n",
        "\n",
        "        ## Enable weight clipping\n",
        "        if config[\"weight_clip\"]:\n",
        "            with torch.no_grad():\n",
        "                for param in net.parameters():\n",
        "                    param.clamp_(-1, 1)\n",
        "\n",
        "        optimizer.step()\n",
        "        scheduler.step()\n",
        "        loss_accum.append(loss.item() / config[\"num_steps\"])\n",
        "        lr_accum.append(optimizer.param_groups[0][\"lr\"])\n",
        "\n",
        "    return loss_accum, lr_accum"
      ],
      "metadata": {
        "id": "tbOQgPiEe-lp"
      },
      "id": "tbOQgPiEe-lp",
      "execution_count": null,
      "outputs": []
    },
    {
      "cell_type": "markdown",
      "source": [
        "## Testing"
      ],
      "metadata": {
        "id": "GP4ULEf8ffLT"
      },
      "id": "GP4ULEf8ffLT"
    },
    {
      "cell_type": "code",
      "source": [
        "def test(config, net, testloader, device=\"cpu\"):\n",
        "    \"\"\"Calculate accuracy on full test set.\"\"\"\n",
        "    correct = 0\n",
        "    total = 0\n",
        "    with torch.no_grad():\n",
        "        net.eval()\n",
        "        for data in testloader:\n",
        "            images, labels = data\n",
        "            images, labels = images.to(device), labels.to(device)\n",
        "            outputs, _ = net(images)\n",
        "            accuracy = SF.accuracy_rate(outputs, labels)\n",
        "            total += labels.size(0)\n",
        "            correct += accuracy * labels.size(0)\n",
        "\n",
        "    return 100 * correct / total"
      ],
      "metadata": {
        "id": "vXU9iTiSfgIv"
      },
      "id": "vXU9iTiSfgIv",
      "execution_count": null,
      "outputs": []
    },
    {
      "cell_type": "markdown",
      "source": [
        "## Training Loop\n",
        "As the learning rate follows a periodic schedule, the accuracy will oscillate across the training process, but with a general tendency to improve."
      ],
      "metadata": {
        "id": "SSPICpLzfupp"
      },
      "id": "SSPICpLzfupp"
    },
    {
      "cell_type": "code",
      "source": [
        "loss_list = []\n",
        "lr_list = []\n",
        "\n",
        "print(f\"=======Training Network=======\")\n",
        "\n",
        "# Train\n",
        "for epoch in range(config['num_epochs']):\n",
        "    loss, lr = train(config, net, trainloader, criterion, optimizer, \n",
        "                               device, scheduler\n",
        "                               )\n",
        "    \n",
        "    loss_list = loss_list + loss\n",
        "    lr_list = lr_list + lr\n",
        "\n",
        "    # Test\n",
        "    test_accuracy = test(config, net, testloader, device)\n",
        "    print(f\"Epoch: {epoch} \\tTest Accuracy: {test_accuracy}\")"
      ],
      "metadata": {
        "id": "CjvtvIjmdvFD"
      },
      "id": "CjvtvIjmdvFD",
      "execution_count": null,
      "outputs": []
    },
    {
      "cell_type": "code",
      "source": [
        "import matplotlib.pyplot as plt\n",
        "import seaborn as sns\n",
        "\n",
        "sns.set_theme()\n",
        "fig, ax1 = plt.subplots()\n",
        "\n",
        "ax2 = ax1.twinx()\n",
        "ax1.plot(loss_list, color='tab:orange')\n",
        "ax2.plot(lr_list, color='tab:blue')\n",
        "\n",
        "ax1.set_xlabel('Iteration')\n",
        "ax1.set_ylabel('Loss', color='tab:orange')\n",
        "ax2.set_ylabel('Learning Rate', color='tab:blue')\n",
        "\n",
        "plt.show()"
      ],
      "metadata": {
        "id": "B22SnaTElOLh"
      },
      "id": "B22SnaTElOLh",
      "execution_count": null,
      "outputs": []
    },
    {
      "cell_type": "markdown",
      "metadata": {
        "id": "-iSGTq0Q3Lcm"
      },
      "source": [
        "# Conclusion\n",
        "That's it for the quick intro to quantized SNNs! Results can be further improved by not using the `data_subset` function to train with the full FashionMNIST dataset, run for a longer number of epochs, and use early stopping.\n",
        "\n",
        "To run the experiments from the corresponding paper, including those on dynamic datasets, please [refer to the corresponding GitHub repo.](https://github.com/jeshraghian/QSNNs/)"
      ],
      "id": "-iSGTq0Q3Lcm"
    }
  ]
}